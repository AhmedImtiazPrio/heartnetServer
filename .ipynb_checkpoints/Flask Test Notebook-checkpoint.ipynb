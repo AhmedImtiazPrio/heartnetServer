{
 "cells": [
  {
   "cell_type": "code",
   "execution_count": 9,
   "metadata": {},
   "outputs": [],
   "source": [
    "import matlab.engine\n",
    "from heartnet_v1 import heartnet\n",
    "load_path='/media/taufiq/Data/heart_sound/models/fold1_noFIR 2018-02-02 09:52:02.463256/weights.0148-0.8902.hdf5'"
   ]
  },
  {
   "cell_type": "code",
   "execution_count": 1,
   "metadata": {},
   "outputs": [],
   "source": [
    "def preprocessing(PCG,eng):\n",
    "    PCG = eng.resample(PCG,matlab.double([target_fs]),matlab.double([in_fs]))\n",
    "    PCG = eng.butterworth_low_pass_filter(PCG,matlab.double([2]),matlab.double([400]),matlab.double([1000]))\n",
    "    PCG = eng.butterworth_high_pass_filter(PCG,matlab.double([2]),matlab.double([25]),matlab.double([1000]))\n",
    "    PCG = eng.schmidt_spike_removal(PCG,matlab.double([target_fs]))\n",
    "    return PCG"
   ]
  },
  {
   "cell_type": "code",
   "execution_count": 4,
   "metadata": {},
   "outputs": [],
   "source": [
    "def matlab_init():\n",
    "    eng = matlab.engine.start_matlab()\n",
    "    eng.addpath('/media/taufiq/Data/heart_sound/Heart_Sound/codes/cristhian.potes-204/');\n",
    "    return eng"
   ]
  },
  {
   "cell_type": "code",
   "execution_count": 7,
   "metadata": {},
   "outputs": [],
   "source": [
    "def segmentation(PCG,eng):\n",
    "    assigned_states = eng.runSpringerSegmentationAlgorithmpython(PCG,matlab.double([target_fs]))\n",
    "    idx_states,last_idx=eng.get_states_python(assigned_states,nargout=2)\n",
    "    \n",
    "    ncc=len(idx_states)\n",
    "    idx_states=np.hstack(np.asarray(idx_states))\n",
    "    idx_states=np.reshape(idx_states,(ncc,4))\n",
    "    idx_states=idx_states-1 ## -1 for python indexing compatibility \n",
    "    PCG = np.hstack(np.asarray(PCG))\n",
    "    x = np.zeros([ncc,nsamp],dtype=np.double)\n",
    "\n",
    "    for row in range(ncc):\n",
    "        if row == ncc-1:\n",
    "            tmp = PCG[int(idx_states[row,0]):int(last_idx-1)] ## 2 to compensate for python indexing\n",
    "        else:\n",
    "            tmp=PCG[int(idx_states[row,0]):int(idx_states[row+1,0]-1)]\n",
    "        N = nsamp-tmp.shape[0]\n",
    "        x[row,:] = np.concatenate((tmp,np.zeros(N)))\n",
    "    x = np.reshape(x,(x.shape[0],x.shape[1],1))\n",
    "    return x"
   ]
  },
  {
   "cell_type": "code",
   "execution_count": 23,
   "metadata": {},
   "outputs": [],
   "source": [
    "model=heartnet(load_path,'relu')"
   ]
  },
  {
   "cell_type": "code",
   "execution_count": 24,
   "metadata": {},
   "outputs": [
    {
     "data": {
      "text/plain": [
       "array([[ 0.],\n",
       "       [ 0.],\n",
       "       [ 0.],\n",
       "       [ 0.],\n",
       "       [ 0.],\n",
       "       [ 0.],\n",
       "       [ 0.],\n",
       "       [ 0.],\n",
       "       [ 0.],\n",
       "       [ 0.],\n",
       "       [ 0.],\n",
       "       [ 0.],\n",
       "       [ 0.],\n",
       "       [ 0.],\n",
       "       [ 0.],\n",
       "       [ 0.],\n",
       "       [ 0.],\n",
       "       [ 0.],\n",
       "       [ 0.],\n",
       "       [ 0.]], dtype=float32)"
      ]
     },
     "execution_count": 24,
     "metadata": {},
     "output_type": "execute_result"
    }
   ],
   "source": []
  },
  {
   "cell_type": "code",
   "execution_count": null,
   "metadata": {},
   "outputs": [],
   "source": []
  }
 ],
 "metadata": {
  "kernelspec": {
   "display_name": "Python 2",
   "language": "python",
   "name": "python2"
  },
  "language_info": {
   "codemirror_mode": {
    "name": "ipython",
    "version": 2
   },
   "file_extension": ".py",
   "mimetype": "text/x-python",
   "name": "python",
   "nbconvert_exporter": "python",
   "pygments_lexer": "ipython2",
   "version": "2.7.12"
  }
 },
 "nbformat": 4,
 "nbformat_minor": 2
}
